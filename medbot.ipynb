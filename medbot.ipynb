{
 "cells": [
  {
   "cell_type": "markdown",
   "metadata": {},
   "source": [
    "# MedBot"
   ]
  },
  {
   "cell_type": "code",
   "execution_count": 2,
   "metadata": {
    "_cell_guid": "b1076dfc-b9ad-4769-8c92-a6c4dae69d19",
    "_uuid": "8f2839f25d086af736a60e9eeb907d3b93b6e0e5",
    "execution": {
     "iopub.execute_input": "2025-05-23T14:40:27.650221Z",
     "iopub.status.busy": "2025-05-23T14:40:27.649909Z",
     "iopub.status.idle": "2025-05-23T14:43:23.769339Z",
     "shell.execute_reply": "2025-05-23T14:43:23.768347Z",
     "shell.execute_reply.started": "2025-05-23T14:40:27.650197Z"
    },
    "trusted": true
   },
   "outputs": [],
   "source": [
    "%%capture\n",
    "!pip install unsloth vllm\n",
    "!pip install --force-reinstall --no-cache-dir --no-deps git+https://github.com/unslothai/unsloth.git\n",
    "!pip install git+https://github.com/huggingface/transformers.git\n",
    "!pip install unsloth-zoo\n",
    "!rm -rf unsloth_compiled_cache"
   ]
  },
  {
   "cell_type": "markdown",
   "metadata": {},
   "source": [
    "### Import"
   ]
  },
  {
   "cell_type": "code",
   "execution_count": 3,
   "metadata": {
    "execution": {
     "iopub.execute_input": "2025-05-23T14:43:23.771575Z",
     "iopub.status.busy": "2025-05-23T14:43:23.771081Z",
     "iopub.status.idle": "2025-05-23T14:44:01.180100Z",
     "shell.execute_reply": "2025-05-23T14:44:01.179518Z",
     "shell.execute_reply.started": "2025-05-23T14:43:23.771545Z"
    },
    "trusted": true
   },
   "outputs": [
    {
     "name": "stdout",
     "output_type": "stream",
     "text": [
      "🦥 Unsloth: Will patch your computer to enable 2x faster free finetuning.\n"
     ]
    },
    {
     "name": "stderr",
     "output_type": "stream",
     "text": [
      "2025-05-23 14:43:36.139336: E external/local_xla/xla/stream_executor/cuda/cuda_fft.cc:477] Unable to register cuFFT factory: Attempting to register factory for plugin cuFFT when one has already been registered\n",
      "WARNING: All log messages before absl::InitializeLog() is called are written to STDERR\n",
      "E0000 00:00:1748011416.330707      35 cuda_dnn.cc:8310] Unable to register cuDNN factory: Attempting to register factory for plugin cuDNN when one has already been registered\n",
      "E0000 00:00:1748011416.386934      35 cuda_blas.cc:1418] Unable to register cuBLAS factory: Attempting to register factory for plugin cuBLAS when one has already been registered\n"
     ]
    },
    {
     "name": "stdout",
     "output_type": "stream",
     "text": [
      "🦥 Unsloth Zoo will now patch everything to make training faster!\n",
      "INFO 05-23 14:43:55 [importing.py:53] Triton module has been replaced with a placeholder.\n",
      "INFO 05-23 14:43:56 [__init__.py:239] Automatically detected platform cuda.\n"
     ]
    }
   ],
   "source": [
    "from unsloth import FastLanguageModel\n",
    "import torch\n",
    "from trl import SFTTrainer\n",
    "from unsloth import is_bfloat16_supported\n",
    "from huggingface_hub import login\n",
    "from transformers import TrainingArguments\n",
    "from datasets import load_dataset\n",
    "import wandb\n",
    "import re"
   ]
  },
  {
   "cell_type": "markdown",
   "metadata": {},
   "source": [
    "### Login"
   ]
  },
  {
   "cell_type": "code",
   "execution_count": null,
   "metadata": {
    "execution": {
     "iopub.execute_input": "2025-05-23T14:46:08.671325Z",
     "iopub.status.busy": "2025-05-23T14:46:08.670661Z",
     "iopub.status.idle": "2025-05-23T14:46:14.970125Z",
     "shell.execute_reply": "2025-05-23T14:46:14.969497Z",
     "shell.execute_reply.started": "2025-05-23T14:46:08.671301Z"
    },
    "trusted": true
   },
   "outputs": [],
   "source": [
    "from kaggle_secrets import UserSecretsClient\n",
    "user_secrets = UserSecretsClient()\n",
    "secret_value_0 = user_secrets.get_secret(\"huggingface\")\n",
    "secret_value_1 = user_secrets.get_secret(\"wandb\")\n",
    "\n",
    "# Use the secret token to authenticate\n",
    "login(secret_value_0) #huggingface\n",
    "wandb.login(key=secret_value_1) #wandb"
   ]
  },
  {
   "cell_type": "markdown",
   "metadata": {},
   "source": [
    "### Load Model"
   ]
  },
  {
   "cell_type": "code",
   "execution_count": 5,
   "metadata": {
    "execution": {
     "iopub.execute_input": "2025-05-23T14:46:14.972227Z",
     "iopub.status.busy": "2025-05-23T14:46:14.971419Z",
     "iopub.status.idle": "2025-05-23T14:47:05.840217Z",
     "shell.execute_reply": "2025-05-23T14:47:05.839597Z",
     "shell.execute_reply.started": "2025-05-23T14:46:14.972207Z"
    },
    "trusted": true
   },
   "outputs": [
    {
     "name": "stdout",
     "output_type": "stream",
     "text": [
      "==((====))==  Unsloth 2025.5.7: Fast Llama patching. Transformers: 4.51.3. vLLM: 0.8.5.post1.\n",
      "   \\\\   /|    Tesla T4. Num GPUs = 2. Max memory: 14.741 GB. Platform: Linux.\n",
      "O^O/ \\_/ \\    Torch: 2.6.0+cu124. CUDA: 7.5. CUDA Toolkit: 12.4. Triton: 3.2.0\n",
      "\\        /    Bfloat16 = FALSE. FA [Xformers = 0.0.29.post2. FA2 = False]\n",
      " \"-____-\"     Free license: http://github.com/unslothai/unsloth\n",
      "Unsloth: Fast downloading is enabled - ignore downloading bars which are red colored!\n"
     ]
    },
    {
     "data": {
      "application/vnd.jupyter.widget-view+json": {
       "model_id": "a8cbd85598af4d39a623f8536799df1c",
       "version_major": 2,
       "version_minor": 0
      },
      "text/plain": [
       "model.safetensors:   0%|          | 0.00/5.96G [00:00<?, ?B/s]"
      ]
     },
     "metadata": {},
     "output_type": "display_data"
    },
    {
     "data": {
      "application/vnd.jupyter.widget-view+json": {
       "model_id": "62011a9bc84d4fa4997d03b2a25b028f",
       "version_major": 2,
       "version_minor": 0
      },
      "text/plain": [
       "generation_config.json:   0%|          | 0.00/236 [00:00<?, ?B/s]"
      ]
     },
     "metadata": {},
     "output_type": "display_data"
    },
    {
     "data": {
      "application/vnd.jupyter.widget-view+json": {
       "model_id": "e9f250de23504496b6d8c8d40421570d",
       "version_major": 2,
       "version_minor": 0
      },
      "text/plain": [
       "tokenizer_config.json:   0%|          | 0.00/53.0k [00:00<?, ?B/s]"
      ]
     },
     "metadata": {},
     "output_type": "display_data"
    },
    {
     "data": {
      "application/vnd.jupyter.widget-view+json": {
       "model_id": "980eecb20a7945e7a6d8fe54b74d8104",
       "version_major": 2,
       "version_minor": 0
      },
      "text/plain": [
       "tokenizer.json:   0%|          | 0.00/17.2M [00:00<?, ?B/s]"
      ]
     },
     "metadata": {},
     "output_type": "display_data"
    },
    {
     "data": {
      "application/vnd.jupyter.widget-view+json": {
       "model_id": "ff420b8bd9ce409a835b419d1bd17a83",
       "version_major": 2,
       "version_minor": 0
      },
      "text/plain": [
       "special_tokens_map.json:   0%|          | 0.00/483 [00:00<?, ?B/s]"
      ]
     },
     "metadata": {},
     "output_type": "display_data"
    }
   ],
   "source": [
    "model_name = \"deepseek-ai/DeepSeek-R1-Distill-Llama-8B\"\n",
    "max_sequence_length = 2048\n",
    "dtype = None\n",
    "load_in_4bit = True\n",
    "\n",
    "model, tokenizer = FastLanguageModel.from_pretrained(\n",
    "    model_name = model_name,\n",
    "    max_seq_length = max_sequence_length,\n",
    "    dtype = dtype,\n",
    "    load_in_4bit = load_in_4bit,\n",
    "    token = secret_value_0\n",
    ")"
   ]
  },
  {
   "cell_type": "markdown",
   "metadata": {},
   "source": [
    "### Prompt"
   ]
  },
  {
   "cell_type": "code",
   "execution_count": 6,
   "metadata": {
    "execution": {
     "iopub.execute_input": "2025-05-23T14:47:05.841890Z",
     "iopub.status.busy": "2025-05-23T14:47:05.841655Z",
     "iopub.status.idle": "2025-05-23T14:47:05.845780Z",
     "shell.execute_reply": "2025-05-23T14:47:05.844649Z",
     "shell.execute_reply.started": "2025-05-23T14:47:05.841871Z"
    },
    "trusted": true
   },
   "outputs": [],
   "source": [
    "prompt_style = \"\"\"\n",
    "Below is a task description, followed by additional context and a specific query. Your objective is to deliver a well-reasoned and accurate response that thoroughly addresses the request.\n",
    "Before formulating your answer, carefully analyze the question and apply a logical, step-by-step reasoning approach. Ensure your response reflects deep clinical expertise and adheres to best practices in medical diagnostics and treatment.\n",
    "\n",
    "### Task:\n",
    "You are a medical expert with specialization in clinical reasoning, diagnostics, and treatment planning. Provide a professional and evidence-based response to the medical question below.\n",
    "\n",
    "### Question:\n",
    "{}\n",
    "\n",
    "### Response:\n",
    "<think>{}\"\"\""
   ]
  },
  {
   "cell_type": "markdown",
   "metadata": {},
   "source": [
    "### Inference on Base Model"
   ]
  },
  {
   "cell_type": "code",
   "execution_count": 7,
   "metadata": {
    "execution": {
     "iopub.execute_input": "2025-05-23T14:47:05.849135Z",
     "iopub.status.busy": "2025-05-23T14:47:05.848866Z",
     "iopub.status.idle": "2025-05-23T14:47:42.802530Z",
     "shell.execute_reply": "2025-05-23T14:47:42.801400Z",
     "shell.execute_reply.started": "2025-05-23T14:47:05.849119Z"
    },
    "trusted": true
   },
   "outputs": [
    {
     "name": "stdout",
     "output_type": "stream",
     "text": [
      "\n",
      "<think>\n",
      "Okay, so I need to figure out why a 23-year-old guy is sweating so much from his palms and feet. He's been dealing with this for a decade. Hmm, let's think about possible causes. First, I remember that excessive sweating, or hyperhidrosis, can be either focal or generalized. Focal tends to affect specific areas like the palms and feet, while generalized affects more widespread areas.\n",
      "\n",
      "I recall that focal hyperhidrosis is often linked to nervous system issues. Maybe it's something like hyperhidrosis itself, which is a common condition. But wait, it's been 10 years. Does that mean it's just a chronic condition, or could it be related to something else?\n",
      "\n",
      "I should also think about other possibilities. Maybe it's a side effect of another health issue. For example, diabetes can sometimes cause sweating, but I'm not sure if that's the primary issue here. Or maybe it's related to a hormonal imbalance, though that's less common.\n",
      "\n",
      "Another angle is to consider medications. If he's on any drugs, like antidepressants or certain blood pressure medications, they can cause sweating. But the question doesn't mention any medications, so that might not be the main cause.\n",
      "\n",
      "Could it be something more systemic? Maybe hyperthyroidism or hypothyroidism? I think hyperthyroidism can cause excessive sweating, but again, it's not the first thing that comes to mind for this specific case.\n",
      "\n",
      "Wait, maybe it's just that he's genetically predisposed to hyperhidrosis. Some people have a higher tendency to sweat excessively, especially in certain areas. That could explain why it's been going on for so long without any underlying health issues.\n",
      "\n",
      "I should also consider if there's any underlying condition that's causing it. For example, hyperhidrosis can be idiopathic, meaning there's no known cause. It's just something the person has to manage. Or it could be linked to something like obesity or another chronic condition, but without more info, it's hard to say.\n",
      "\n",
      "So, putting it all together, the most likely cause is probably focal hyperhidrosis, which is a common condition affecting areas like the palms and feet. It might be idiopathic, meaning there's no specific underlying cause, and the person might need to use antiperspirants or consider other management strategies to control the sweating.\n",
      "</think>\n",
      "\n",
      "The most likely cause of the 23-year-old male's excessive sweating from his palms and feet is focal hyperhidrosis. This condition typically affects specific areas and is often idiopathic, meaning there may be no underlying health issue. It is common and can be managed effectively with treatments such as antiperspirants or other strategies to reduce sweating.<｜end▁of▁sentence｜>\n"
     ]
    }
   ],
   "source": [
    "# Define a test question\n",
    "question = \"\"\"A 23-year-old male has been experiencing excessive sweating from his palms and feet for the past 10 years. \n",
    "              What is the most likely cause of this symptom?\"\"\"\n",
    "\n",
    "FastLanguageModel.for_inference(model)\n",
    "\n",
    "# Tokenize the input\n",
    "inputs = tokenizer([prompt_style.format(question, \"\")], return_tensors=\"pt\").to(\"cuda\")\n",
    "\n",
    "# Generate a response\n",
    "outputs = model.generate (\n",
    "    input_ids = inputs.input_ids,\n",
    "    attention_mask = inputs.attention_mask,\n",
    "    max_new_tokens = 1200,\n",
    "    use_cache = True\n",
    ")\n",
    "\n",
    "# Decode the response tokens back to text\n",
    "response = tokenizer.batch_decode(outputs)\n",
    "\n",
    "print(response[0].split(\"### Response:\")[1])\n"
   ]
  },
  {
   "cell_type": "code",
   "execution_count": null,
   "metadata": {
    "execution": {
     "iopub.execute_input": "2025-05-23T14:47:42.804444Z",
     "iopub.status.busy": "2025-05-23T14:47:42.803612Z",
     "iopub.status.idle": "2025-05-23T14:48:31.565956Z",
     "shell.execute_reply": "2025-05-23T14:48:31.565291Z",
     "shell.execute_reply.started": "2025-05-23T14:47:42.804417Z"
    },
    "trusted": true
   },
   "outputs": [
    {
     "name": "stdout",
     "output_type": "stream",
     "text": [
      "\n",
      "<think>\n",
      "Okay, so I'm trying to figure out why a patient is feeling restless and sweating while on intravenous quinine. First, I know quinine is usually used to treat malaria, but I'm not too familiar with all its side effects. Let me think through this step by step.\n",
      "\n",
      "I remember that quinine can have several adverse effects. One of the common ones is related to the nervous system. I think it can cause things like headache, dizziness, and sometimes more serious issues like seizures or confusion. But does it cause restlessness? Maybe that's part of the central nervous system stimulation.\n",
      "\n",
      "Also, sweating is another symptom. I'm trying to recall if quinine affects the body's temperature regulation. I think some antimalarials can cause sweating, possibly through affecting the hypothalamus or through increased metabolic rate.\n",
      "\n",
      "Wait, I should consider the mechanism of action. Quinine works by inhibiting the red blood cell multiplication in the parasite that causes malaria. But how does that relate to side effects? Maybe the dose is too high, causing excessive stimulation of the nervous system.\n",
      "\n",
      "I should also think about other possible causes. Could it be the patient's underlying condition? Maybe they have something else that's causing restlessness and sweating. But since the question is about the most likely cause related to quinine, I should focus on that.\n",
      "\n",
      "I remember reading that quinine can sometimes cause pruritus (itching), but restlessness is a bit different. Maybe it's a result of the drug's effect on the central nervous system, causing agitation or anxiety-like symptoms.\n",
      "\n",
      "Another angle: quinine can sometimes cause myalgia (muscle pain) and arthralgia. Could that lead to restlessness? Possibly, but I think the more direct cause would be related to the nervous system effects.\n",
      "\n",
      "I should also consider the timing. Did the symptoms develop after starting quinine? If so, it's more likely a reaction to the drug. If they started before, maybe it's another cause.\n",
      "\n",
      "I think I've heard of quinine causing hypotension as well. Does that relate to sweating? Maybe through autonomic nervous system effects, leading to increased heart rate and sweating as the body compensates.\n",
      "\n",
      "Wait, but the main symptoms are restlessness and sweating. I'm trying to piece together how quinine affects these systems. Quinine can interfere with the body's temperature regulation, possibly through its effect on the hypothalamus. This might lead to excessive sweating as the body tries to cool down.\n",
      "\n",
      "Also, the drug can sometimes cause anaphyloid reactions, but those are usually more severe and include skin swelling. Restlessness is more of a central nervous system effect, so maybe that's the primary cause.\n",
      "\n",
      "In summary, the most likely causes are:\n",
      "1. Central nervous system stimulation, leading to restlessness.\n",
      "2. Autonomic nervous system effects, causing increased sweating.\n",
      "\n",
      "I should also consider if there's a specific condition or if the patient has any risk factors that could increase the likelihood of these side effects. For example, older age might make the nervous system more sensitive to quinine.\n",
      "\n",
      "So, putting it all together, the restlessness and sweating are most likely due to quinine's effects on the nervous system, leading to stimulation and subsequent symptoms.\n",
      "</think>\n",
      "\n",
      "The restlessness and sweating observed in the patient receiving intravenous quinine are most likely caused by the drug's effects on the nervous system. Quinine, commonly used to treat malaria, can stimulate the central nervous system, leading to symptoms such as restlessness. Additionally, quinine may affect the autonomic nervous system, potentially causing increased sweating as the body compensates for changes in temperature regulation. These effects are consistent with known side effects of quinine, making them the primary likely causes of the symptoms.<｜end▁of▁sentence｜>\n"
     ]
    }
   ],
   "source": [
    "# Define a example2 test question\n",
    "question = \"\"\"What is the most likely cause of restlessness and sweating in a patient being administered intravenous quinine?\"\"\"\n",
    "\n",
    "FastLanguageModel.for_inference(model)\n",
    "\n",
    "# Tokenize the input\n",
    "inputs = tokenizer([prompt_style.format(question, \"\")], return_tensors=\"pt\").to(\"cuda\")\n",
    "\n",
    "# Generate a response\n",
    "outputs = model.generate (\n",
    "    input_ids = inputs.input_ids,\n",
    "    attention_mask = inputs.attention_mask,\n",
    "    max_new_tokens = 1200,\n",
    "    use_cache = True\n",
    ")\n",
    "\n",
    "# Decode the response tokens back to text\n",
    "response = tokenizer.batch_decode(outputs)\n",
    "\n",
    "print(response[0].split(\"### Response:\")[1])\n"
   ]
  }
 ],
 "metadata": {
  "kaggle": {
   "accelerator": "nvidiaTeslaT4",
   "dataSources": [],
   "dockerImageVersionId": 31041,
   "isGpuEnabled": true,
   "isInternetEnabled": true,
   "language": "python",
   "sourceType": "notebook"
  },
  "kernelspec": {
   "display_name": "Python 3",
   "language": "python",
   "name": "python3"
  },
  "language_info": {
   "codemirror_mode": {
    "name": "ipython",
    "version": 3
   },
   "file_extension": ".py",
   "mimetype": "text/x-python",
   "name": "python",
   "nbconvert_exporter": "python",
   "pygments_lexer": "ipython3",
   "version": "3.11.11"
  }
 },
 "nbformat": 4,
 "nbformat_minor": 4
}
