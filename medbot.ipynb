{
 "cells": [
  {
   "cell_type": "markdown",
   "metadata": {},
   "source": [
    "# MedBot"
   ]
  },
  {
   "cell_type": "code",
   "execution_count": 2,
   "metadata": {
    "_cell_guid": "b1076dfc-b9ad-4769-8c92-a6c4dae69d19",
    "_uuid": "8f2839f25d086af736a60e9eeb907d3b93b6e0e5",
    "execution": {
     "iopub.execute_input": "2025-05-23T14:40:27.650221Z",
     "iopub.status.busy": "2025-05-23T14:40:27.649909Z",
     "iopub.status.idle": "2025-05-23T14:43:23.769339Z",
     "shell.execute_reply": "2025-05-23T14:43:23.768347Z",
     "shell.execute_reply.started": "2025-05-23T14:40:27.650197Z"
    },
    "trusted": true
   },
   "outputs": [],
   "source": [
    "%%capture\n",
    "!pip install unsloth vllm\n",
    "!pip install --force-reinstall --no-cache-dir --no-deps git+https://github.com/unslothai/unsloth.git\n",
    "!pip install git+https://github.com/huggingface/transformers.git\n",
    "!pip install unsloth-zoo\n",
    "!rm -rf unsloth_compiled_cache"
   ]
  },
  {
   "cell_type": "markdown",
   "metadata": {},
   "source": [
    "### Import"
   ]
  },
  {
   "cell_type": "code",
   "execution_count": 3,
   "metadata": {
    "execution": {
     "iopub.execute_input": "2025-05-23T14:43:23.771575Z",
     "iopub.status.busy": "2025-05-23T14:43:23.771081Z",
     "iopub.status.idle": "2025-05-23T14:44:01.180100Z",
     "shell.execute_reply": "2025-05-23T14:44:01.179518Z",
     "shell.execute_reply.started": "2025-05-23T14:43:23.771545Z"
    },
    "trusted": true
   },
   "outputs": [
    {
     "name": "stdout",
     "output_type": "stream",
     "text": [
      "🦥 Unsloth: Will patch your computer to enable 2x faster free finetuning.\n"
     ]
    },
    {
     "name": "stderr",
     "output_type": "stream",
     "text": [
      "2025-05-23 14:43:36.139336: E external/local_xla/xla/stream_executor/cuda/cuda_fft.cc:477] Unable to register cuFFT factory: Attempting to register factory for plugin cuFFT when one has already been registered\n",
      "WARNING: All log messages before absl::InitializeLog() is called are written to STDERR\n",
      "E0000 00:00:1748011416.330707      35 cuda_dnn.cc:8310] Unable to register cuDNN factory: Attempting to register factory for plugin cuDNN when one has already been registered\n",
      "E0000 00:00:1748011416.386934      35 cuda_blas.cc:1418] Unable to register cuBLAS factory: Attempting to register factory for plugin cuBLAS when one has already been registered\n"
     ]
    },
    {
     "name": "stdout",
     "output_type": "stream",
     "text": [
      "🦥 Unsloth Zoo will now patch everything to make training faster!\n",
      "INFO 05-23 14:43:55 [importing.py:53] Triton module has been replaced with a placeholder.\n",
      "INFO 05-23 14:43:56 [__init__.py:239] Automatically detected platform cuda.\n"
     ]
    }
   ],
   "source": [
    "from unsloth import FastLanguageModel\n",
    "import torch\n",
    "from trl import SFTTrainer\n",
    "from unsloth import is_bfloat16_supported\n",
    "from huggingface_hub import login\n",
    "from transformers import TrainingArguments\n",
    "from datasets import load_dataset\n",
    "import wandb\n",
    "import re"
   ]
  },
  {
   "cell_type": "markdown",
   "metadata": {},
   "source": [
    "### Login"
   ]
  },
  {
   "cell_type": "code",
   "execution_count": null,
   "metadata": {
    "execution": {
     "iopub.execute_input": "2025-05-23T14:46:08.671325Z",
     "iopub.status.busy": "2025-05-23T14:46:08.670661Z",
     "iopub.status.idle": "2025-05-23T14:46:14.970125Z",
     "shell.execute_reply": "2025-05-23T14:46:14.969497Z",
     "shell.execute_reply.started": "2025-05-23T14:46:08.671301Z"
    },
    "trusted": true
   },
   "outputs": [],
   "source": [
    "from kaggle_secrets import UserSecretsClient\n",
    "user_secrets = UserSecretsClient()\n",
    "secret_value_0 = user_secrets.get_secret(\"huggingface\")\n",
    "secret_value_1 = user_secrets.get_secret(\"wandb\")\n",
    "\n",
    "# Use the secret token to authenticate\n",
    "login(secret_value_0) #huggingface\n",
    "wandb.login(key=secret_value_1) #wandb"
   ]
  },
  {
   "cell_type": "markdown",
   "metadata": {},
   "source": [
    "### Load Model"
   ]
  },
  {
   "cell_type": "code",
   "execution_count": 5,
   "metadata": {
    "execution": {
     "iopub.execute_input": "2025-05-23T14:46:14.972227Z",
     "iopub.status.busy": "2025-05-23T14:46:14.971419Z",
     "iopub.status.idle": "2025-05-23T14:47:05.840217Z",
     "shell.execute_reply": "2025-05-23T14:47:05.839597Z",
     "shell.execute_reply.started": "2025-05-23T14:46:14.972207Z"
    },
    "trusted": true
   },
   "outputs": [
    {
     "name": "stdout",
     "output_type": "stream",
     "text": [
      "==((====))==  Unsloth 2025.5.7: Fast Llama patching. Transformers: 4.51.3. vLLM: 0.8.5.post1.\n",
      "   \\\\   /|    Tesla T4. Num GPUs = 2. Max memory: 14.741 GB. Platform: Linux.\n",
      "O^O/ \\_/ \\    Torch: 2.6.0+cu124. CUDA: 7.5. CUDA Toolkit: 12.4. Triton: 3.2.0\n",
      "\\        /    Bfloat16 = FALSE. FA [Xformers = 0.0.29.post2. FA2 = False]\n",
      " \"-____-\"     Free license: http://github.com/unslothai/unsloth\n",
      "Unsloth: Fast downloading is enabled - ignore downloading bars which are red colored!\n"
     ]
    },
    {
     "data": {
      "application/vnd.jupyter.widget-view+json": {
       "model_id": "a8cbd85598af4d39a623f8536799df1c",
       "version_major": 2,
       "version_minor": 0
      },
      "text/plain": [
       "model.safetensors:   0%|          | 0.00/5.96G [00:00<?, ?B/s]"
      ]
     },
     "metadata": {},
     "output_type": "display_data"
    },
    {
     "data": {
      "application/vnd.jupyter.widget-view+json": {
       "model_id": "62011a9bc84d4fa4997d03b2a25b028f",
       "version_major": 2,
       "version_minor": 0
      },
      "text/plain": [
       "generation_config.json:   0%|          | 0.00/236 [00:00<?, ?B/s]"
      ]
     },
     "metadata": {},
     "output_type": "display_data"
    },
    {
     "data": {
      "application/vnd.jupyter.widget-view+json": {
       "model_id": "e9f250de23504496b6d8c8d40421570d",
       "version_major": 2,
       "version_minor": 0
      },
      "text/plain": [
       "tokenizer_config.json:   0%|          | 0.00/53.0k [00:00<?, ?B/s]"
      ]
     },
     "metadata": {},
     "output_type": "display_data"
    },
    {
     "data": {
      "application/vnd.jupyter.widget-view+json": {
       "model_id": "980eecb20a7945e7a6d8fe54b74d8104",
       "version_major": 2,
       "version_minor": 0
      },
      "text/plain": [
       "tokenizer.json:   0%|          | 0.00/17.2M [00:00<?, ?B/s]"
      ]
     },
     "metadata": {},
     "output_type": "display_data"
    },
    {
     "data": {
      "application/vnd.jupyter.widget-view+json": {
       "model_id": "ff420b8bd9ce409a835b419d1bd17a83",
       "version_major": 2,
       "version_minor": 0
      },
      "text/plain": [
       "special_tokens_map.json:   0%|          | 0.00/483 [00:00<?, ?B/s]"
      ]
     },
     "metadata": {},
     "output_type": "display_data"
    }
   ],
   "source": [
    "model_name = \"deepseek-ai/DeepSeek-R1-Distill-Llama-8B\"\n",
    "max_sequence_length = 2048\n",
    "dtype = None\n",
    "load_in_4bit = True\n",
    "\n",
    "model, tokenizer = FastLanguageModel.from_pretrained(\n",
    "    model_name = model_name,\n",
    "    max_seq_length = max_sequence_length,\n",
    "    dtype = dtype,\n",
    "    load_in_4bit = load_in_4bit,\n",
    "    token = secret_value_0\n",
    ")"
   ]
  },
  {
   "cell_type": "markdown",
   "metadata": {},
   "source": [
    "### Prompt"
   ]
  },
  {
   "cell_type": "code",
   "execution_count": 6,
   "metadata": {
    "execution": {
     "iopub.execute_input": "2025-05-23T14:47:05.841890Z",
     "iopub.status.busy": "2025-05-23T14:47:05.841655Z",
     "iopub.status.idle": "2025-05-23T14:47:05.845780Z",
     "shell.execute_reply": "2025-05-23T14:47:05.844649Z",
     "shell.execute_reply.started": "2025-05-23T14:47:05.841871Z"
    },
    "trusted": true
   },
   "outputs": [],
   "source": [
    "prompt_style = \"\"\"\n",
    "Below is a task description, followed by additional context and a specific query. Your objective is to deliver a well-reasoned and accurate response that thoroughly addresses the request.\n",
    "Before formulating your answer, carefully analyze the question and apply a logical, step-by-step reasoning approach. Ensure your response reflects deep clinical expertise and adheres to best practices in medical diagnostics and treatment.\n",
    "\n",
    "### Task:\n",
    "You are a medical expert with specialization in clinical reasoning, diagnostics, and treatment planning. Provide a professional and evidence-based response to the medical question below.\n",
    "\n",
    "### Question:\n",
    "{}\n",
    "\n",
    "### Response:\n",
    "<think>{}\"\"\""
   ]
  },
  {
   "cell_type": "markdown",
   "metadata": {},
   "source": [
    "### Inference on Base Model"
   ]
  },
  {
   "cell_type": "code",
   "execution_count": 7,
   "metadata": {
    "execution": {
     "iopub.execute_input": "2025-05-23T14:47:05.849135Z",
     "iopub.status.busy": "2025-05-23T14:47:05.848866Z",
     "iopub.status.idle": "2025-05-23T14:47:42.802530Z",
     "shell.execute_reply": "2025-05-23T14:47:42.801400Z",
     "shell.execute_reply.started": "2025-05-23T14:47:05.849119Z"
    },
    "trusted": true
   },
   "outputs": [
    {
     "name": "stdout",
     "output_type": "stream",
     "text": [
      "\n",
      "<think>\n",
      "Okay, so I need to figure out why a 23-year-old guy is sweating so much from his palms and feet. He's been dealing with this for a decade. Hmm, let's think about possible causes. First, I remember that excessive sweating, or hyperhidrosis, can be either focal or generalized. Focal tends to affect specific areas like the palms and feet, while generalized affects more widespread areas.\n",
      "\n",
      "I recall that focal hyperhidrosis is often linked to nervous system issues. Maybe it's something like hyperhidrosis itself, which is a common condition. But wait, it's been 10 years. Does that mean it's just a chronic condition, or could it be related to something else?\n",
      "\n",
      "I should also think about other possibilities. Maybe it's a side effect of another health issue. For example, diabetes can sometimes cause sweating, but I'm not sure if that's the primary issue here. Or maybe it's related to a hormonal imbalance, though that's less common.\n",
      "\n",
      "Another angle is to consider medications. If he's on any drugs, like antidepressants or certain blood pressure medications, they can cause sweating. But the question doesn't mention any medications, so that might not be the main cause.\n",
      "\n",
      "Could it be something more systemic? Maybe hyperthyroidism or hypothyroidism? I think hyperthyroidism can cause excessive sweating, but again, it's not the first thing that comes to mind for this specific case.\n",
      "\n",
      "Wait, maybe it's just that he's genetically predisposed to hyperhidrosis. Some people have a higher tendency to sweat excessively, especially in certain areas. That could explain why it's been going on for so long without any underlying health issues.\n",
      "\n",
      "I should also consider if there's any underlying condition that's causing it. For example, hyperhidrosis can be idiopathic, meaning there's no known cause. It's just something the person has to manage. Or it could be linked to something like obesity or another chronic condition, but without more info, it's hard to say.\n",
      "\n",
      "So, putting it all together, the most likely cause is probably focal hyperhidrosis, which is a common condition affecting areas like the palms and feet. It might be idiopathic, meaning there's no specific underlying cause, and the person might need to use antiperspirants or consider other management strategies to control the sweating.\n",
      "</think>\n",
      "\n",
      "The most likely cause of the 23-year-old male's excessive sweating from his palms and feet is focal hyperhidrosis. This condition typically affects specific areas and is often idiopathic, meaning there may be no underlying health issue. It is common and can be managed effectively with treatments such as antiperspirants or other strategies to reduce sweating.<｜end▁of▁sentence｜>\n"
     ]
    }
   ],
   "source": [
    "# Define a test question\n",
    "question = \"\"\"A 23-year-old male has been experiencing excessive sweating from his palms and feet for the past 10 years. \n",
    "              What is the most likely cause of this symptom?\"\"\"\n",
    "\n",
    "FastLanguageModel.for_inference(model)\n",
    "\n",
    "# Tokenize the input\n",
    "inputs = tokenizer([prompt_style.format(question, \"\")], return_tensors=\"pt\").to(\"cuda\")\n",
    "\n",
    "# Generate a response\n",
    "outputs = model.generate (\n",
    "    input_ids = inputs.input_ids,\n",
    "    attention_mask = inputs.attention_mask,\n",
    "    max_new_tokens = 1200,\n",
    "    use_cache = True\n",
    ")\n",
    "\n",
    "# Decode the response tokens back to text\n",
    "response = tokenizer.batch_decode(outputs)\n",
    "\n",
    "print(response[0].split(\"### Response:\")[1])\n"
   ]
  },
  {
   "cell_type": "code",
   "execution_count": null,
   "metadata": {
    "execution": {
     "iopub.execute_input": "2025-05-23T14:47:42.804444Z",
     "iopub.status.busy": "2025-05-23T14:47:42.803612Z",
     "iopub.status.idle": "2025-05-23T14:48:31.565956Z",
     "shell.execute_reply": "2025-05-23T14:48:31.565291Z",
     "shell.execute_reply.started": "2025-05-23T14:47:42.804417Z"
    },
    "trusted": true
   },
   "outputs": [
    {
     "name": "stdout",
     "output_type": "stream",
     "text": [
      "\n",
      "<think>\n",
      "Okay, so I'm trying to figure out why a patient is feeling restless and sweating while on intravenous quinine. First, I know quinine is usually used to treat malaria, but I'm not too familiar with all its side effects. Let me think through this step by step.\n",
      "\n",
      "I remember that quinine can have several adverse effects. One of the common ones is related to the nervous system. I think it can cause things like headache, dizziness, and sometimes more serious issues like seizures or confusion. But does it cause restlessness? Maybe that's part of the central nervous system stimulation.\n",
      "\n",
      "Also, sweating is another symptom. I'm trying to recall if quinine affects the body's temperature regulation. I think some antimalarials can cause sweating, possibly through affecting the hypothalamus or through increased metabolic rate.\n",
      "\n",
      "Wait, I should consider the mechanism of action. Quinine works by inhibiting the red blood cell multiplication in the parasite that causes malaria. But how does that relate to side effects? Maybe the dose is too high, causing excessive stimulation of the nervous system.\n",
      "\n",
      "I should also think about other possible causes. Could it be the patient's underlying condition? Maybe they have something else that's causing restlessness and sweating. But since the question is about the most likely cause related to quinine, I should focus on that.\n",
      "\n",
      "I remember reading that quinine can sometimes cause pruritus (itching), but restlessness is a bit different. Maybe it's a result of the drug's effect on the central nervous system, causing agitation or anxiety-like symptoms.\n",
      "\n",
      "Another angle: quinine can sometimes cause myalgia (muscle pain) and arthralgia. Could that lead to restlessness? Possibly, but I think the more direct cause would be related to the nervous system effects.\n",
      "\n",
      "I should also consider the timing. Did the symptoms develop after starting quinine? If so, it's more likely a reaction to the drug. If they started before, maybe it's another cause.\n",
      "\n",
      "I think I've heard of quinine causing hypotension as well. Does that relate to sweating? Maybe through autonomic nervous system effects, leading to increased heart rate and sweating as the body compensates.\n",
      "\n",
      "Wait, but the main symptoms are restlessness and sweating. I'm trying to piece together how quinine affects these systems. Quinine can interfere with the body's temperature regulation, possibly through its effect on the hypothalamus. This might lead to excessive sweating as the body tries to cool down.\n",
      "\n",
      "Also, the drug can sometimes cause anaphyloid reactions, but those are usually more severe and include skin swelling. Restlessness is more of a central nervous system effect, so maybe that's the primary cause.\n",
      "\n",
      "In summary, the most likely causes are:\n",
      "1. Central nervous system stimulation, leading to restlessness.\n",
      "2. Autonomic nervous system effects, causing increased sweating.\n",
      "\n",
      "I should also consider if there's a specific condition or if the patient has any risk factors that could increase the likelihood of these side effects. For example, older age might make the nervous system more sensitive to quinine.\n",
      "\n",
      "So, putting it all together, the restlessness and sweating are most likely due to quinine's effects on the nervous system, leading to stimulation and subsequent symptoms.\n",
      "</think>\n",
      "\n",
      "The restlessness and sweating observed in the patient receiving intravenous quinine are most likely caused by the drug's effects on the nervous system. Quinine, commonly used to treat malaria, can stimulate the central nervous system, leading to symptoms such as restlessness. Additionally, quinine may affect the autonomic nervous system, potentially causing increased sweating as the body compensates for changes in temperature regulation. These effects are consistent with known side effects of quinine, making them the primary likely causes of the symptoms.<｜end▁of▁sentence｜>\n"
     ]
    }
   ],
   "source": [
    "# Define a example2 test question\n",
    "question = \"\"\"What is the most likely cause of restlessness and sweating in a patient being administered intravenous quinine?\"\"\"\n",
    "\n",
    "FastLanguageModel.for_inference(model)\n",
    "\n",
    "# Tokenize the input\n",
    "inputs = tokenizer([prompt_style.format(question, \"\")], return_tensors=\"pt\").to(\"cuda\")\n",
    "\n",
    "# Generate a response\n",
    "outputs = model.generate (\n",
    "    input_ids = inputs.input_ids,\n",
    "    attention_mask = inputs.attention_mask,\n",
    "    max_new_tokens = 1200,\n",
    "    use_cache = True\n",
    ")\n",
    "\n",
    "# Decode the response tokens back to text\n",
    "response = tokenizer.batch_decode(outputs)\n",
    "\n",
    "print(response[0].split(\"### Response:\")[1])\n"
   ]
  },
  {
   "cell_type": "markdown",
   "metadata": {},
   "source": [
    "# Fine-Tuning"
   ]
  },
  {
   "cell_type": "markdown",
   "metadata": {},
   "source": [
    "### Load Dataset"
   ]
  },
  {
   "cell_type": "code",
   "execution_count": 9,
   "metadata": {
    "execution": {
     "iopub.execute_input": "2025-05-23T14:48:31.567023Z",
     "iopub.status.busy": "2025-05-23T14:48:31.566716Z",
     "iopub.status.idle": "2025-05-23T14:48:35.480753Z",
     "shell.execute_reply": "2025-05-23T14:48:35.479826Z",
     "shell.execute_reply.started": "2025-05-23T14:48:31.566994Z"
    },
    "trusted": true
   },
   "outputs": [
    {
     "data": {
      "application/vnd.jupyter.widget-view+json": {
       "model_id": "d6362dc322f4489d8e1f9d8c1e814059",
       "version_major": 2,
       "version_minor": 0
      },
      "text/plain": [
       "README.md:   0%|          | 0.00/1.97k [00:00<?, ?B/s]"
      ]
     },
     "metadata": {},
     "output_type": "display_data"
    },
    {
     "data": {
      "application/vnd.jupyter.widget-view+json": {
       "model_id": "1cfb1944d8ca4234a431bc73532d1b37",
       "version_major": 2,
       "version_minor": 0
      },
      "text/plain": [
       "medical_o1_sft.json:   0%|          | 0.00/58.2M [00:00<?, ?B/s]"
      ]
     },
     "metadata": {},
     "output_type": "display_data"
    },
    {
     "data": {
      "application/vnd.jupyter.widget-view+json": {
       "model_id": "04816e6ebd4c437dbcdda9b8db6a2228",
       "version_major": 2,
       "version_minor": 0
      },
      "text/plain": [
       "Generating train split:   0%|          | 0/19704 [00:00<?, ? examples/s]"
      ]
     },
     "metadata": {},
     "output_type": "display_data"
    },
    {
     "data": {
      "text/plain": [
       "{'Question': 'A 33-year-old woman is brought to the emergency department 15 minutes after being stabbed in the chest with a screwdriver. Given her vital signs of pulse 110/min, respirations 22/min, and blood pressure 90/65 mm Hg, along with the presence of a 5-cm deep stab wound at the upper border of the 8th rib in the left midaxillary line, which anatomical structure in her chest is most likely to be injured?',\n",
       " 'Complex_CoT': \"Okay, let's figure out what's going on here. A woman comes in with a stab wound from a screwdriver. It's in her chest, upper border of the 8th rib, left side, kind of around the midaxillary line. First thought, that's pretty close to where the lung sits, right?\\n\\nLet's talk about location first. This spot is along the left side of her body. Above the 8th rib, like that, is where a lot of important stuff lives, like the bottom part of the left lung, possibly the diaphragm too, especially considering how deep the screwdriver went.\\n\\nThe wound is 5 cm deep. That sounds pretty deep. I mean, it could definitely reach down to the lung tissue or maybe the diaphragm. Given that it's midaxillary, we're in the territory where the lower lobe of the left lung hangs out. It's also possible there's some intersection with where the diaphragm begins, but the lung feels more probable somehow.\\n\\nNow, her vitals are concerning: elevated heart rate and low blood pressure. This is serious. My gut says that this kind of vital sign picture could mean something like pneumothorax or maybe hemothorax. Both can happen if the lung gets punctured, and they can make the blood pressure drop and the heart rate skyrocket since she's obviously distressed.\\n\\nSo, putting it all together, the most obvious culprit is the lower lobe of the left lung. The wound's depth and her condition point that way. And, yeah, this adds up with pneumothorax or maybe blood collecting in the chest—the kind of stuff that can really mess with breathing and circulation.\\n\\nAlright, with this in mind, it sure seems like the lung is the most likely thing that got hurt here. Makes sense given the situation, where the wound is, considering her symptoms, and the whole setup.\",\n",
       " 'Response': 'In this scenario, the most likely anatomical structure to be injured is the lower lobe of the left lung. The location of the stab wound—at the upper border of the 8th rib in the left midaxillary line—indicates proximity to the lower lobe of the lung. The depth of the wound (5 cm) suggests it is sufficient to reach lung tissue. Her vital signs of elevated heart rate and low blood pressure could signal complications like a pneumothorax or hemothorax, common consequences of lung trauma that would result from a penetrating injury in this area. Given these considerations, the lower lobe of the left lung is the most probable structure injured.'}"
      ]
     },
     "execution_count": 9,
     "metadata": {},
     "output_type": "execute_result"
    }
   ],
   "source": [
    "medical_dataset = load_dataset(\"FreedomIntelligence/medical-o1-reasoning-SFT\", \"en\", split = \"train[:500]\", trust_remote_code = True)\n",
    "\n",
    "#dataset format\n",
    "medical_dataset[1]"
   ]
  },
  {
   "cell_type": "code",
   "execution_count": 10,
   "metadata": {
    "execution": {
     "iopub.execute_input": "2025-05-23T14:48:35.482017Z",
     "iopub.status.busy": "2025-05-23T14:48:35.481709Z",
     "iopub.status.idle": "2025-05-23T14:48:35.486294Z",
     "shell.execute_reply": "2025-05-23T14:48:35.485157Z",
     "shell.execute_reply.started": "2025-05-23T14:48:35.481995Z"
    },
    "trusted": true
   },
   "outputs": [],
   "source": [
    "train_prompt_style = \"\"\"\n",
    "Below is a task description, followed by additional context and a specific query. Your objective is to deliver a well-reasoned and accurate response that thoroughly addresses the request.\n",
    "Before formulating your answer, carefully analyze the question and create a step-by-step chain of thoughts to ensure your response reflects deep clinical expertise and adheres to best practices in medical diagnostics and treatment.\n",
    "\n",
    "### Instruction:\n",
    "You are a medical expert with specialization in clinical reasoning, diagnostics, and treatment planning. Provide a professional and evidence-based response to the medical question below.\n",
    "\n",
    "### Question:\n",
    "{}\n",
    "\n",
    "### Response:\n",
    "<think>\n",
    "{}\n",
    "</think>\n",
    "{}\"\"\""
   ]
  },
  {
   "cell_type": "code",
   "execution_count": 11,
   "metadata": {
    "execution": {
     "iopub.execute_input": "2025-05-23T14:48:35.487756Z",
     "iopub.status.busy": "2025-05-23T14:48:35.487413Z",
     "iopub.status.idle": "2025-05-23T14:48:35.685796Z",
     "shell.execute_reply": "2025-05-23T14:48:35.684905Z",
     "shell.execute_reply.started": "2025-05-23T14:48:35.487728Z"
    },
    "trusted": true
   },
   "outputs": [],
   "source": [
    "# Define EOS_TOKEN which tells the model when to stop generating text during training\n",
    "EOS_TOKEN = tokenizer.eos_token  # Must add EOS_TOKEN\n",
    "\n",
    "\n",
    "def formatting_prompts_func(examples):\n",
    "    inputs = examples[\"Question\"]\n",
    "    cots = examples[\"Complex_CoT\"]\n",
    "    outputs = examples[\"Response\"]\n",
    "    texts = []\n",
    "    for input, cot, output in zip(inputs, cots, outputs):\n",
    "        text = train_prompt_style.format(input, cot, output) + EOS_TOKEN\n",
    "        texts.append(text)\n",
    "    return {\n",
    "        \"text\": texts,\n",
    "    }"
   ]
  },
  {
   "cell_type": "code",
   "execution_count": 12,
   "metadata": {
    "execution": {
     "iopub.execute_input": "2025-05-23T14:48:35.687350Z",
     "iopub.status.busy": "2025-05-23T14:48:35.687005Z",
     "iopub.status.idle": "2025-05-23T14:48:35.737141Z",
     "shell.execute_reply": "2025-05-23T14:48:35.736372Z",
     "shell.execute_reply.started": "2025-05-23T14:48:35.687318Z"
    },
    "trusted": true
   },
   "outputs": [
    {
     "data": {
      "application/vnd.jupyter.widget-view+json": {
       "model_id": "e4648523581e4bf7b29eb9954e78cef0",
       "version_major": 2,
       "version_minor": 0
      },
      "text/plain": [
       "Map:   0%|          | 0/500 [00:00<?, ? examples/s]"
      ]
     },
     "metadata": {},
     "output_type": "display_data"
    },
    {
     "data": {
      "text/plain": [
       "\"\\nBelow is a task description, followed by additional context and a specific query. Your objective is to deliver a well-reasoned and accurate response that thoroughly addresses the request.\\nBefore formulating your answer, carefully analyze the question and create a step-by-step chain of thoughts to ensure your response reflects deep clinical expertise and adheres to best practices in medical diagnostics and treatment.\\n\\n### Instruction:\\nYou are a medical expert with specialization in clinical reasoning, diagnostics, and treatment planning. Provide a professional and evidence-based response to the medical question below.\\n\\n### Question:\\nGiven the symptoms of sudden weakness in the left arm and leg, recent long-distance travel, and the presence of swollen and tender right lower leg, what specific cardiac abnormality is most likely to be found upon further evaluation that could explain these findings?\\n\\n### Response:\\n<think>\\nOkay, let's see what's going on here. We've got sudden weakness in the person's left arm and leg - and that screams something neuro-related, maybe a stroke?\\n\\nBut wait, there's more. The right lower leg is swollen and tender, which is like waving a big flag for deep vein thrombosis, especially after a long flight or sitting around a lot.\\n\\nSo, now I'm thinking, how could a clot in the leg end up causing issues like weakness or stroke symptoms?\\n\\nOh, right! There's this thing called a paradoxical embolism. It can happen if there's some kind of short circuit in the heart - like a hole that shouldn't be there.\\n\\nLet's put this together: if a blood clot from the leg somehow travels to the left side of the heart, it could shoot off to the brain and cause that sudden weakness by blocking blood flow there.\\n\\nHmm, but how would the clot get from the right side of the heart to the left without going through the lungs and getting filtered out?\\n\\nHere's where our cardiac anomaly comes in: a patent foramen ovale or PFO. That's like a sneaky little shortcut in the heart between the right and left atria.\\n\\nAnd it's actually pretty common, found in about a quarter of adults, which definitely makes it the top suspect here.\\n\\nSo with all these pieces - long travel, leg clot, sudden weakness - a PFO fits the bill perfectly, letting a clot cross over and cause all this.\\n\\nEverything fits together pretty neatly, so I'd bet PFO is the heart issue waiting to be discovered. Yeah, that really clicks into place!\\n</think>\\nThe specific cardiac abnormality most likely to be found in this scenario is a patent foramen ovale (PFO). This condition could allow a blood clot from the venous system, such as one from a deep vein thrombosis in the leg, to bypass the lungs and pass directly into the arterial circulation. This can occur when the clot moves from the right atrium to the left atrium through the PFO. Once in the arterial system, the clot can travel to the brain, potentially causing an embolic stroke, which would explain the sudden weakness in the left arm and leg. The connection between the recent travel, which increases the risk of deep vein thrombosis, and the neurological symptoms suggests the presence of a PFO facilitating a paradoxical embolism.<｜end▁of▁sentence｜>\""
      ]
     },
     "execution_count": 12,
     "metadata": {},
     "output_type": "execute_result"
    }
   ],
   "source": [
    "#new dataset format\n",
    "finetune_dataset = medical_dataset.map(formatting_prompts_func, batched = True,)\n",
    "finetune_dataset[\"text\"][0]\n"
   ]
  },
  {
   "cell_type": "markdown",
   "metadata": {},
   "source": [
    "### Model Setup with LoRA\n",
    "\n",
    "**Target Modules**\n",
    "```\n",
    "q_proj: Query projection\n",
    "k_proj: Key projection\n",
    "v_proj: Value projection\n",
    "o_proj: Output projection\n",
    "up_proj: Projects hidden states up to a higher dimension.\n",
    "gate_proj:  It determines which parts of the up_proj's expanded information are important and should be passed on.\n",
    "down_proj: Brings the output back down to the original hidden size\n",
    "```"
   ]
  },
  {
   "cell_type": "code",
   "execution_count": null,
   "metadata": {
    "execution": {
     "iopub.execute_input": "2025-05-23T14:48:35.739131Z",
     "iopub.status.busy": "2025-05-23T14:48:35.738897Z",
     "iopub.status.idle": "2025-05-23T14:48:42.886466Z",
     "shell.execute_reply": "2025-05-23T14:48:42.885523Z",
     "shell.execute_reply.started": "2025-05-23T14:48:35.739115Z"
    },
    "trusted": true
   },
   "outputs": [
    {
     "name": "stderr",
     "output_type": "stream",
     "text": [
      "Unsloth 2025.5.7 patched 32 layers with 32 QKV layers, 32 O layers and 32 MLP layers.\n"
     ]
    }
   ],
   "source": [
    "model_lora = FastLanguageModel.get_peft_model(\n",
    "    model = model,\n",
    "    r = 16,\n",
    "    target_modules = [\n",
    "        \"q_proj\", \n",
    "        \"k_proj\",\n",
    "        \"v_proj\",\n",
    "        \"o_proj\",\n",
    "        \"gate_proj\",\n",
    "        \"up_proj\",\n",
    "        \"down_proj\"\n",
    "    ],\n",
    "    lora_alpha = 16,\n",
    "    lora_dropout = 0,\n",
    "    bias = \"none\",\n",
    "    use_gradient_checkpointing = \"unsloth\",\n",
    "    random_state = 3047,\n",
    "    use_rslora = False,\n",
    "    loftq_config = None\n",
    ")"
   ]
  },
  {
   "cell_type": "code",
   "execution_count": null,
   "metadata": {
    "execution": {
     "iopub.execute_input": "2025-05-23T14:48:42.887607Z",
     "iopub.status.busy": "2025-05-23T14:48:42.887363Z",
     "iopub.status.idle": "2025-05-23T14:48:45.797076Z",
     "shell.execute_reply": "2025-05-23T14:48:45.796353Z",
     "shell.execute_reply.started": "2025-05-23T14:48:42.887590Z"
    },
    "trusted": true
   },
   "outputs": [
    {
     "data": {
      "application/vnd.jupyter.widget-view+json": {
       "model_id": "41daf4b6106346d18e26ddde2660ecd6",
       "version_major": 2,
       "version_minor": 0
      },
      "text/plain": [
       "Unsloth: Tokenizing [\"text\"] (num_proc=2):   0%|          | 0/500 [00:00<?, ? examples/s]"
      ]
     },
     "metadata": {},
     "output_type": "display_data"
    }
   ],
   "source": [
    "trainer = SFTTrainer(\n",
    "    model = model_lora,\n",
    "    tokenizer = tokenizer,\n",
    "    train_dataset = finetune_dataset,\n",
    "    dataset_text_field = \"text\",\n",
    "    max_seq_length = max_sequence_length,\n",
    "    dataset_num_proc = 2,\n",
    "\n",
    "    # Define training args\n",
    "    args = TrainingArguments(\n",
    "        per_device_train_batch_size = 2,\n",
    "        gradient_accumulation_steps = 4,\n",
    "        num_train_epochs = 1,\n",
    "        warmup_steps = 5,\n",
    "        max_steps = 60, \n",
    "        learning_rate = 2e-4,\n",
    "        fp16 = not is_bfloat16_supported(),\n",
    "        bf16=is_bfloat16_supported(),\n",
    "        logging_steps = 10,\n",
    "        optim = \"adamw_8bit\",\n",
    "        weight_decay = 0.01,\n",
    "        lr_scheduler_type=\"linear\",\n",
    "        seed=3407,\n",
    "        output_dir = \"outputs\",\n",
    "    ),\n",
    ")"
   ]
  },
  {
   "cell_type": "code",
   "execution_count": null,
   "metadata": {
    "execution": {
     "iopub.execute_input": "2025-05-23T14:48:45.798297Z",
     "iopub.status.busy": "2025-05-23T14:48:45.798057Z",
     "iopub.status.idle": "2025-05-23T14:48:52.098590Z",
     "shell.execute_reply": "2025-05-23T14:48:52.097878Z",
     "shell.execute_reply.started": "2025-05-23T14:48:45.798272Z"
    },
    "trusted": true
   },
   "outputs": [],
   "source": [
    "run = wandb.init(\n",
    "    project='DeepSeekR1-FT-on-Medical-Data',\n",
    "    job_type=\"training\",\n",
    "    anonymous=\"allow\"\n",
    ")"
   ]
  },
  {
   "cell_type": "markdown",
   "metadata": {},
   "source": [
    "### Model Training"
   ]
  },
  {
   "cell_type": "code",
   "execution_count": 16,
   "metadata": {
    "execution": {
     "iopub.execute_input": "2025-05-23T14:48:52.099713Z",
     "iopub.status.busy": "2025-05-23T14:48:52.099424Z",
     "iopub.status.idle": "2025-05-23T15:32:24.323051Z",
     "shell.execute_reply": "2025-05-23T15:32:24.322509Z",
     "shell.execute_reply.started": "2025-05-23T14:48:52.099693Z"
    },
    "trusted": true
   },
   "outputs": [
    {
     "name": "stderr",
     "output_type": "stream",
     "text": [
      "==((====))==  Unsloth - 2x faster free finetuning | Num GPUs used = 1\n",
      "   \\\\   /|    Num examples = 500 | Num Epochs = 2 | Total steps = 60\n",
      "O^O/ \\_/ \\    Batch size per device = 4 | Gradient accumulation steps = 4\n",
      "\\        /    Data Parallel GPUs = 1 | Total batch size (4 x 4 x 1) = 16\n",
      " \"-____-\"     Trainable parameters = 41,943,040/8,000,000,000 (0.52% trained)\n",
      "\u001b[34m\u001b[1mwandb\u001b[0m: \u001b[33mWARNING\u001b[0m The `run_name` is currently set to the same value as `TrainingArguments.output_dir`. If this was not intended, please specify a different run name by setting the `TrainingArguments.run_name` parameter.\n"
     ]
    },
    {
     "name": "stdout",
     "output_type": "stream",
     "text": [
      "Unsloth: Will smartly offload gradients to save VRAM!\n"
     ]
    },
    {
     "data": {
      "text/html": [
       "\n",
       "    <div>\n",
       "      \n",
       "      <progress value='60' max='60' style='width:300px; height:20px; vertical-align: middle;'></progress>\n",
       "      [60/60 42:29, Epoch 1/2]\n",
       "    </div>\n",
       "    <table border=\"1\" class=\"dataframe\">\n",
       "  <thead>\n",
       " <tr style=\"text-align: left;\">\n",
       "      <th>Step</th>\n",
       "      <th>Training Loss</th>\n",
       "    </tr>\n",
       "  </thead>\n",
       "  <tbody>\n",
       "    <tr>\n",
       "      <td>10</td>\n",
       "      <td>1.889200</td>\n",
       "    </tr>\n",
       "    <tr>\n",
       "      <td>20</td>\n",
       "      <td>1.395500</td>\n",
       "    </tr>\n",
       "    <tr>\n",
       "      <td>30</td>\n",
       "      <td>1.361800</td>\n",
       "    </tr>\n",
       "    <tr>\n",
       "      <td>40</td>\n",
       "      <td>1.266500</td>\n",
       "    </tr>\n",
       "    <tr>\n",
       "      <td>50</td>\n",
       "      <td>1.263500</td>\n",
       "    </tr>\n",
       "    <tr>\n",
       "      <td>60</td>\n",
       "      <td>1.272100</td>\n",
       "    </tr>\n",
       "  </tbody>\n",
       "</table><p>"
      ],
      "text/plain": [
       "<IPython.core.display.HTML object>"
      ]
     },
     "metadata": {},
     "output_type": "display_data"
    },
    {
     "data": {
      "text/html": [],
      "text/plain": [
       "<IPython.core.display.HTML object>"
      ]
     },
     "metadata": {},
     "output_type": "display_data"
    },
    {
     "data": {
      "text/html": [
       "<br>    <style><br>        .wandb-row {<br>            display: flex;<br>            flex-direction: row;<br>            flex-wrap: wrap;<br>            justify-content: flex-start;<br>            width: 100%;<br>        }<br>        .wandb-col {<br>            display: flex;<br>            flex-direction: column;<br>            flex-basis: 100%;<br>            flex: 1;<br>            padding: 10px;<br>        }<br>    </style><br><div class=\"wandb-row\"><div class=\"wandb-col\"><h3>Run history:</h3><br/><table class=\"wandb\"><tr><td>train/epoch</td><td>▁▂▄▅▇██</td></tr><tr><td>train/global_step</td><td>▁▂▄▅▇██</td></tr><tr><td>train/grad_norm</td><td>█▂▁▁▁▁</td></tr><tr><td>train/learning_rate</td><td>█▇▅▄▂▁</td></tr><tr><td>train/loss</td><td>█▂▂▁▁▁</td></tr></table><br/></div><div class=\"wandb-col\"><h3>Run summary:</h3><br/><table class=\"wandb\"><tr><td>total_flos</td><td>3.712678552171315e+16</td></tr><tr><td>train/epoch</td><td>1.896</td></tr><tr><td>train/global_step</td><td>60</td></tr><tr><td>train/grad_norm</td><td>0.18033</td></tr><tr><td>train/learning_rate</td><td>0.0</td></tr><tr><td>train/loss</td><td>1.2721</td></tr><tr><td>train_loss</td><td>1.40812</td></tr><tr><td>train_runtime</td><td>2609.344</td></tr><tr><td>train_samples_per_second</td><td>0.368</td></tr><tr><td>train_steps_per_second</td><td>0.023</td></tr></table><br/></div></div>"
      ],
      "text/plain": [
       "<IPython.core.display.HTML object>"
      ]
     },
     "metadata": {},
     "output_type": "display_data"
    },
    {
     "data": {
      "text/html": [
       " View run <strong style=\"color:#cdcd00\">neat-leaf-15</strong> at: <a href='https://wandb.ai/gauravrsawant013-none/DeepSeekR1-FT-on-Medical-Data/runs/eqcicugi?apiKey=4e4e494614c57e4ef4441116582cf57c3cf96070' target=\"_blank\">https://wandb.ai/gauravrsawant013-none/DeepSeekR1-FT-on-Medical-Data/runs/eqcicugi?apiKey=4e4e494614c57e4ef4441116582cf57c3cf96070</a><br> View project at: <a href='https://wandb.ai/gauravrsawant013-none/DeepSeekR1-FT-on-Medical-Data?apiKey=4e4e494614c57e4ef4441116582cf57c3cf96070' target=\"_blank\">https://wandb.ai/gauravrsawant013-none/DeepSeekR1-FT-on-Medical-Data?apiKey=4e4e494614c57e4ef4441116582cf57c3cf96070</a><br>Synced 5 W&B file(s), 0 media file(s), 0 artifact file(s) and 0 other file(s)"
      ],
      "text/plain": [
       "<IPython.core.display.HTML object>"
      ]
     },
     "metadata": {},
     "output_type": "display_data"
    },
    {
     "data": {
      "text/html": [
       "Find logs at: <code>./wandb/run-20250523_144845-eqcicugi/logs</code>"
      ],
      "text/plain": [
       "<IPython.core.display.HTML object>"
      ]
     },
     "metadata": {},
     "output_type": "display_data"
    }
   ],
   "source": [
    "# Start the fine-tuning process\n",
    "trainer_stats = trainer.train()\n",
    "wandb.finish()"
   ]
  }
 ],
 "metadata": {
  "kaggle": {
   "accelerator": "nvidiaTeslaT4",
   "dataSources": [],
   "dockerImageVersionId": 31041,
   "isGpuEnabled": true,
   "isInternetEnabled": true,
   "language": "python",
   "sourceType": "notebook"
  },
  "kernelspec": {
   "display_name": "Python 3",
   "language": "python",
   "name": "python3"
  },
  "language_info": {
   "codemirror_mode": {
    "name": "ipython",
    "version": 3
   },
   "file_extension": ".py",
   "mimetype": "text/x-python",
   "name": "python",
   "nbconvert_exporter": "python",
   "pygments_lexer": "ipython3",
   "version": "3.11.11"
  }
 },
 "nbformat": 4,
 "nbformat_minor": 4
}
